{
 "cells": [
  {
   "cell_type": "markdown",
   "metadata": {},
   "source": [
    "GROUP RECOMMENDATIONS"
   ]
  },
  {
   "cell_type": "markdown",
   "metadata": {},
   "source": [
    "Authors: Naa Ashiorkor Nortey and Maureen Wanjiku Githaiga.\n",
    "\n",
    "Code can be run in any IDE environment with python : Visual Studio Code or Jupiter Notebook."
   ]
  },
  {
   "cell_type": "code",
   "execution_count": 3,
   "metadata": {},
   "outputs": [],
   "source": [
    "import pandas as pd\n",
    "import numpy as np\n",
    "import math as m\n",
    "import random as r\n",
    "from tabulate import tabulate\n",
    "from scipy.stats import pearsonr\n",
    "from scipy.stats import spearmanr\n",
    "from sklearn.metrics.pairwise import cosine_similarity\n",
    "import matplotlib.pyplot as plt\n",
    "import itertools\n",
    "\n",
    "\n",
    "links = pd.read_csv('ml-latest-small/links.csv')\n",
    "links.head(5)\n",
    "movies = pd.read_csv('ml-latest-small/movies.csv')\n",
    "movies.head(5)\n",
    "tags = pd.read_csv('ml-latest-small/tags.csv')\n",
    "tags.head(5)\n",
    "ratings = pd.read_csv(\"ml-latest-small/ratings.csv\")\n",
    "ratings.head(5)\n",
    "#dropping the timestamp column\n",
    "ratings = ratings.drop(['timestamp'], axis=1)\n",
    "#movie and ratings dataset\n",
    "movie_ratings = pd.merge(ratings, movies, on='movieId')\n",
    "movie_ratings.head()\n",
    "#reshaping the data to table based on column values\n",
    "user_ptable= ratings.pivot(index='userId', columns='movieId', values='rating')\n",
    "user_ptable.head()\n",
    "\n",
    "\n",
    "#pearson correlation coefficient\n",
    "def pearson_correlation(user_a_ratings,user_b_ratings):\n",
    "    corr,_ = pearsonr(user_a_ratings,user_b_ratings)\n",
    "    return corr\n",
    "\n",
    "def user_collaborative_filtering(target_user,p_table,correlationfunction):\n",
    "    '''\n",
    "    Gets the most similar users and their correlations to the target user\n",
    "    Parameters: int target_user -user id in the dataset\n",
    "                p_table - data as a pivot table\n",
    "                correlationfunction - the correlation function to be used\n",
    "    Return: dict similar_users -dictionary of users who have rated similar movies as the target user\n",
    "    with their ratings.\n",
    "    '''\n",
    "    similar_users = {}\n",
    "    #other users who are not the target user\n",
    "    for user_b in p_table.index:\n",
    "        if user_b != target_user:\n",
    "            # ratings for the target user and user_b\n",
    "            target_user_ratings = p_table.loc[target_user].dropna()\n",
    "            user_b_ratings = p_table.loc[user_b].dropna()\n",
    "\n",
    "            # common rated movies\n",
    "            common_rated_movies = target_user_ratings.index.intersection(user_b_ratings.index)\n",
    "            #filter for at least 2  common rated movies\n",
    "            if len(common_rated_movies) >= 2:\n",
    "                #filter  ratings to include only common rated movies\n",
    "                target_user_ratings = target_user_ratings[common_rated_movies]\n",
    "                user_b_ratings = user_b_ratings[common_rated_movies]\n",
    "                #check if either contains all the same elements as correlation will be 1 regardless of actual rating\n",
    "                if len(set(target_user_ratings)) == 1 or len(set(user_b_ratings)) == 1:\n",
    "                    continue\n",
    "                similar_users[user_b] = correlationfunction(target_user_ratings,user_b_ratings)\n",
    "                    \n",
    "    return similar_users\n",
    "     \n",
    "def user_prediction(user_a,item_p,p_table,similarities):\n",
    "    '''\n",
    "    Calculates the predicted rating of user `user_a` for item `item_p`.\n",
    "    Parameters: int user_a - the index of the target user\n",
    "                int item_p - the index of the unseen movie by target user\n",
    "                p_table - pivot table of data\n",
    "                similarities - the dictionary of correlations between target user\n",
    "                  and other users.\n",
    "    Return: int prediction - rating of user a for item p\n",
    "    '''\n",
    "    user_a_ratings = p_table.loc[user_a]\n",
    "    mean_usera_ratings = user_a_ratings.mean()\n",
    "    unseen_item_ratings = p_table.loc[:, item_p].dropna()\n",
    "\n",
    "    # Get the similarity scores between the target user and other users who have rated the unseen item.\n",
    "    #relevant_similarities = {}\n",
    "    predicted_rating = 0\n",
    "    weighted_difference = 0\n",
    "    similarity_sum = 0\n",
    "    for user_b, similarity in similarities.items():\n",
    "        if user_b != user_a and user_b in unseen_item_ratings.index:\n",
    "            user_b_ratings = p_table.loc[user_b]\n",
    "            mean_userb_ratings = user_b_ratings.mean()\n",
    "            rating_difference = unseen_item_ratings.loc[user_b] - mean_userb_ratings\n",
    "            weighted_difference += (similarity*rating_difference)\n",
    "            similarity_sum += abs(similarity)\n",
    "\n",
    "    if similarity_sum != 0:\n",
    "        # the prediction as the active user's mean plus the weighted rating differences\n",
    "        predicted_rating = mean_usera_ratings + (weighted_difference / similarity_sum)\n",
    "    else:\n",
    "        predicted_rating = mean_usera_ratings\n",
    "\n",
    "    return np.clip(predicted_rating,0.5,5)\n",
    "   \n",
    "                                                                                                                                                                          "
   ]
  },
  {
   "cell_type": "code",
   "execution_count": 4,
   "metadata": {},
   "outputs": [],
   "source": [
    "def get_user_recommendations(user, p_table, correlation_function, prediction_function,top_n = 10):\n",
    "    '''Function gets the user _recommendations for a particular user using the prediction function\n",
    "    Returns a dictionary of the movie (key) and the predicted rating(value).\n",
    "    '''\n",
    "    similar_users = user_collaborative_filtering(user, p_table, correlation_function)\n",
    "    sorted_similar_users =  sorted(similar_users.items(), key=lambda item: item[1],reverse=True)\n",
    "    #sorted_similar_users = sorted(similar_users.items(), key=operator.itemgetter(1), reverse=True)\n",
    "    top_similar_users = sorted_similar_users[:top_n]\n",
    "    top_10_similar_users_dict={}\n",
    "    for user,similarity in top_similar_users:\n",
    "        top_10_similar_users_dict[user]=similarity\n",
    "    user_recommendations = {}\n",
    "    for movie in p_table.columns:\n",
    "        if pd.isna(p_table.loc[user, movie]):\n",
    "            user_recommendations[movie] = prediction_function(user, movie, p_table, top_10_similar_users_dict)\n",
    "    return user_recommendations"
   ]
  },
  {
   "cell_type": "code",
   "execution_count": 5,
   "metadata": {},
   "outputs": [],
   "source": [
    "def group_recommendations(user_recommendations_dict, aggregation_method, top_n = 10):\n",
    "    '''Function calculates the group_recommendation based on the given aggregation method.\n",
    "    The aggregation methods are average and least misery method.\n",
    "    Returns :list(tuple) of the movies and predicted rating based on selected method'''\n",
    "  \n",
    "    movie_ratings = {}\n",
    "    borda_scores = {}\n",
    "    #user_recommendations_list = [user_recommendations]\n",
    "    for user,recommendations in user_recommendations_dict.items():\n",
    "        for movie, rating in recommendations.items():\n",
    "            if movie not in movie_ratings:\n",
    "                movie_ratings[movie] = []\n",
    "            movie_ratings[movie].append(rating)\n",
    "    aggregated_ratings = {}   \n",
    "    if aggregation_method == 'average':\n",
    "        aggregated_ratings = {movie: np.mean(ratings) for movie, ratings in movie_ratings.items()}\n",
    "\n",
    "    elif aggregation_method == 'least misery':\n",
    "        aggregated_ratings = {movie: np.min(ratings) for movie, ratings in movie_ratings.items()}\n",
    "        \n",
    "        \n",
    "    #group recommendations\n",
    "    sorted_group_recommendations = sorted(aggregated_ratings.items(), key=lambda item: item[1], reverse=True)\n",
    "    top_group_recommendations = sorted_group_recommendations[:top_n]\n",
    "    \n",
    "\n",
    "    return top_group_recommendations\n"
   ]
  },
  {
   "cell_type": "code",
   "execution_count": 6,
   "metadata": {},
   "outputs": [],
   "source": [
    "def create_dataframe(data, movies_df):\n",
    "    '''Creates a data frame...\n",
    "     Takes a list(tuple) as parameter and a data frame\n",
    "     Returns: data frame\n",
    "     '''\n",
    "    # DataFrame containing movie information\n",
    "    movie_titles_dict = movies_df.set_index('movieId')['title'].to_dict()\n",
    "\n",
    "    # Extract movie IDs, ratings, and titles from the list of tuples\n",
    "    movie_ids, ratings = zip(*data)\n",
    "    movie_titles = [movie_titles_dict.get(movie_id, 'Unknown') for movie_id in movie_ids]\n",
    "\n",
    "    movie_df = pd.DataFrame({\n",
    "        'Movie ID': movie_ids,\n",
    "        'Title': movie_titles,\n",
    "        'Rating': ratings\n",
    "    })\n",
    "\n",
    "    return movie_df"
   ]
  },
  {
   "cell_type": "code",
   "execution_count": 7,
   "metadata": {},
   "outputs": [],
   "source": [
    "#group_users = np.random.choice(user_ptable.index, size=3, replace=False)\n",
    "group_users = [1,2,3]\n",
    "user_recommendations_dict = {}\n",
    "for user in group_users:\n",
    "    user_recommendations_dict [user] = get_user_recommendations(user, user_ptable, pearson_correlation, user_prediction)\n",
    "\n",
    "average_ratings = group_recommendations(user_recommendations_dict,'average')\n",
    "least_misery_ratings = group_recommendations(user_recommendations_dict,'least misery')"
   ]
  },
  {
   "cell_type": "code",
   "execution_count": 8,
   "metadata": {},
   "outputs": [
    {
     "name": "stdout",
     "output_type": "stream",
     "text": [
      "   Movie ID                                              Title    Rating\n",
      "0      1674                                     Witness (1985)  4.845372\n",
      "1        47                        Seven (a.k.a. Se7en) (1995)  4.787860\n",
      "2      1198  Raiders of the Lost Ark (Indiana Jones and the...  4.758586\n",
      "3      3863                                   Cell, The (2000)  4.686715\n",
      "4      2028                         Saving Private Ryan (1998)  4.684813\n",
      "5       750  Dr. Strangelove or: How I Learned to Stop Worr...  4.575039\n",
      "6      1129                        Escape from New York (1981)  4.575039\n",
      "7      3740                 Big Trouble in Little China (1986)  4.575039\n",
      "8       101                               Bottle Rocket (1996)  4.568435\n",
      "9       968                    Night of the Living Dead (1968)  4.568435\n"
     ]
    }
   ],
   "source": [
    "average_recommendations = create_dataframe(average_ratings,movies)\n",
    "print(average_recommendations)"
   ]
  },
  {
   "cell_type": "code",
   "execution_count": 9,
   "metadata": {},
   "outputs": [
    {
     "name": "stdout",
     "output_type": "stream",
     "text": [
      "   Movie ID                                              Title    Rating\n",
      "0      1674                                     Witness (1985)  4.690743\n",
      "1      2028                         Saving Private Ryan (1998)  4.408040\n",
      "2        47                        Seven (a.k.a. Se7en) (1995)  4.363581\n",
      "3     58559                            Dark Knight, The (2008)  4.356047\n",
      "4      3863                                   Cell, The (2000)  4.306452\n",
      "5      1198  Raiders of the Lost Ark (Indiana Jones and the...  4.275758\n",
      "6      2959                                  Fight Club (1999)  4.111072\n",
      "7      2571                                 Matrix, The (1999)  4.106466\n",
      "8      8368    Harry Potter and the Prisoner of Azkaban (2004)  4.058494\n",
      "9      4993  Lord of the Rings: The Fellowship of the Ring,...  4.033421\n"
     ]
    }
   ],
   "source": [
    "least_misery_recommendations = create_dataframe(least_misery_ratings,movies)\n",
    "print(least_misery_recommendations)"
   ]
  },
  {
   "cell_type": "markdown",
   "metadata": {},
   "source": [
    "#part b measuring disagreements"
   ]
  },
  {
   "cell_type": "markdown",
   "metadata": {},
   "source": [
    "The way for counting disagreements between users in a group using cosine similarity. \n",
    "\n",
    "The proposed method for taking disagreements into account is considering the disagreements between users by using cosine similarity and incorporating these disagreements as weights when aggregating individual recommendations into group recommendations.\n",
    "Calculation of Disagreements:\n",
    "Users' recommendations are organized into a matrix where each row represents a user, and each column corresponds to an item or movie.\n",
    "Cosine similarity is computed between the transpose of this matrix, comparing the recommendations of each user with every other user.\n",
    "Subtracting the cosine similarity values from 1 yields a dissimilarity measure, indicating the degree of disagreement between users.\n",
    "\n",
    "Creation of Disagreement DataFrame:\n",
    "The dissimilarity values are structured into a DataFrame (disagreements_df), where each entry (i, j) denotes the disagreement between user i and user j.\n",
    "\n",
    "Normalization of Disagreements to Create Weights:\n",
    "Disagreement values are normalized to a scale where higher values signify stronger disagreement and lower values denote stronger agreement.\n",
    "This normalization process aims to standardize the dissimilarity metrics, preparing them to be used as weights in subsequent calculations.\n",
    "\n",
    "Weighted Aggregation for Group Recommendations:\n",
    "Each user's recommendations are multiplied by their corresponding normalized weight based on disagreements.\n",
    "The weighted recommendations from all users are then aggregated to form group recommendations.\n",
    "This approach ensures that users with greater agreement contribute more to the final group recommendations, while users with more significant differences have a diminished impact.\n",
    "\n",
    "Normalization of Aggregated Recommendations:\n",
    "The aggregated recommendations are normalized to a predefined rating range (0 to 5), ensuring consistency and interpretability.\n",
    "\n",
    "In summary, cosine similarity provides a measure of dissimilarity between users' recommendations, enabling the system to account for differences in preferences. The dissimilarity values are then normalized to create weights, and these weights are used to adjust the influence of each user's recommendations when generating group recommendations. This methodology enhances the group recommendation process by taking into consideration the varying degrees of agreement and disagreement among users in the group.\n",
    "\n",
    "The proposed method is useful when producing group recommendations because:\n",
    "\n",
    "Mitigating Individual Differences: By incorporating disagreements through cosine similarity, the method gives less weight to users who have significantly different preferences, mitigating the influence of outliers.\n",
    "\n",
    "Balancing Group Preferences: The weighted aggregation ensures that users with more similar preferences contribute more to the group recommendations, leading to a balanced and consensus-driven set of suggestions.\n",
    "\n",
    "Customizing Recommendations: Taking disagreements into account allows the system to tailor recommendations to better suit the collective preferences of the group, providing suggestions that are more likely to be acceptable to a majority of users.\n",
    "\n",
    "Reducing Individual Bias: The method helps reduce the impact of individual biases or extreme preferences, promoting a more collaborative and inclusive approach to group recommendations."
   ]
  },
  {
   "cell_type": "code",
   "execution_count": 10,
   "metadata": {},
   "outputs": [
    {
     "data": {
      "image/png": "[encoded data removed]",
      "text/plain": [
       "<Figure size 1000x600 with 1 Axes>"
      ]
     },
     "metadata": {},
     "output_type": "display_data"
    }
   ],
   "source": [
    "# Group by 'movieId' and count the number of ratings for each movie\n",
    "movie_ratings_count = ratings.groupby('movieId').size()\n",
    "\n",
    "# Plotting the distribution of ratings per movie\n",
    "plt.figure(figsize=(10, 6))\n",
    "plt.hist(movie_ratings_count, bins=50)\n",
    "plt.xlabel('Number of Ratings')\n",
    "plt.ylabel('Frequency')\n",
    "plt.title('Distribution of Ratings per Movie')\n",
    "plt.show()\n"
   ]
  },
  {
   "cell_type": "code",
   "execution_count": 23,
   "metadata": {},
   "outputs": [
    {
     "name": "stdout",
     "output_type": "stream",
     "text": [
      "               1         2         3\n",
      "2       3.951613  4.638581  2.790394\n",
      "3       3.951613  3.953163  2.790394\n",
      "4       3.951613  3.798077  3.186047\n",
      "5       3.951613  3.798077  3.186047\n",
      "6       3.951613  3.365724  3.729486\n",
      "...          ...       ...       ...\n",
      "193581  3.951613  3.798077  3.186047\n",
      "193583  3.951613  3.798077  3.186047\n",
      "193585  3.951613  3.798077  3.186047\n",
      "193587  3.951613  3.798077  3.186047\n",
      "193609  3.951613  3.798077  3.186047\n",
      "\n",
      "[9600 rows x 3 columns]\n"
     ]
    }
   ],
   "source": [
    "#user recommendations dict as a DataFrame\n",
    "recommendations_df = pd.DataFrame(user_recommendations_dict)\n",
    "# commonly recommended items to the 3 users\n",
    "common_recommendations = recommendations_df.dropna(axis=0, how='any')\n",
    "#recommendations for each of the 3 users using the user based approach \n",
    "#common_recommendations.columns = ['User 1', 'User 2', 'User 3']\n",
    "\n",
    "#common_recommendations.index.name = 'Movie_ID'\n",
    "print(common_recommendations)\n"
   ]
  },
  {
   "cell_type": "code",
   "execution_count": 12,
   "metadata": {},
   "outputs": [
    {
     "name": "stdout",
     "output_type": "stream",
     "text": [
      "              User 1        User 2        User 3\n",
      "User 1 -1.283418e-13  4.360430e-03  6.465788e-03\n",
      "User 2  4.360430e-03  5.084821e-14  6.981026e-03\n",
      "User 3  6.465788e-03  6.981026e-03  3.042011e-14\n"
     ]
    }
   ],
   "source": [
    "#Calculating disaggreements\n",
    "disagreements = 1 - cosine_similarity(common_recommendations.T)\n",
    "# Create a DataFrame with disagreements\n",
    "disagreements_df = pd.DataFrame(disagreements, columns=common_recommendations.columns, index=common_recommendations.columns)\n",
    "\n",
    "print(disagreements_df)"
   ]
  },
  {
   "cell_type": "code",
   "execution_count": 13,
   "metadata": {},
   "outputs": [
    {
     "data": {
      "text/html": [
       "<div>\n",
       "<style scoped>\n",
       "    .dataframe tbody tr th:only-of-type {\n",
       "        vertical-align: middle;\n",
       "    }\n",
       "\n",
       "    .dataframe tbody tr th {\n",
       "        vertical-align: top;\n",
       "    }\n",
       "\n",
       "    .dataframe thead th {\n",
       "        text-align: right;\n",
       "    }\n",
       "</style>\n",
       "<table border=\"1\" class=\"dataframe\">\n",
       "  <thead>\n",
       "    <tr style=\"text-align: right;\">\n",
       "      <th></th>\n",
       "      <th>User 1</th>\n",
       "      <th>User 2</th>\n",
       "      <th>User 3</th>\n",
       "    </tr>\n",
       "  </thead>\n",
       "  <tbody>\n",
       "    <tr>\n",
       "      <th>User 1</th>\n",
       "      <td>1.000000</td>\n",
       "      <td>0.375388</td>\n",
       "      <td>0.073806</td>\n",
       "    </tr>\n",
       "    <tr>\n",
       "      <th>User 2</th>\n",
       "      <td>0.325615</td>\n",
       "      <td>1.000000</td>\n",
       "      <td>0.000000</td>\n",
       "    </tr>\n",
       "    <tr>\n",
       "      <th>User 3</th>\n",
       "      <td>0.000000</td>\n",
       "      <td>0.000000</td>\n",
       "      <td>1.000000</td>\n",
       "    </tr>\n",
       "  </tbody>\n",
       "</table>\n",
       "</div>"
      ],
      "text/plain": [
       "          User 1    User 2    User 3\n",
       "User 1  1.000000  0.375388  0.073806\n",
       "User 2  0.325615  1.000000  0.000000\n",
       "User 3  0.000000  0.000000  1.000000"
      ]
     },
     "execution_count": 13,
     "metadata": {},
     "output_type": "execute_result"
    }
   ],
   "source": [
    "# Normalize disagreements to create weights\n",
    "#by subtracting from 1 we \n",
    "weights = 1 - (disagreements_df - disagreements_df.min()) / (disagreements_df.max() - disagreements_df.min())\n",
    "weights\n"
   ]
  },
  {
   "cell_type": "code",
   "execution_count": 14,
   "metadata": {},
   "outputs": [],
   "source": [
    "# Weighted Aggregation for group recommendations\n",
    "weighted_aggregated_recommendations = common_recommendations.copy()\n",
    "\n",
    "# multiplying each user's recommendation by their corresponding weight based on disagreements\n",
    "for user in common_recommendations.columns:\n",
    "    weighted_aggregated_recommendations[user] *= weights.loc[user, user]\n",
    "\n",
    "# Sum up the weighted recommendations across users to get aggregated recommendations\n",
    "group_recommendations = weighted_aggregated_recommendations.sum(axis=1)"
   ]
  },
  {
   "cell_type": "code",
   "execution_count": 15,
   "metadata": {},
   "outputs": [],
   "source": [
    "#group_recommendations_avg = weighted_aggregated_recommendations.sum(axis=1) / 3\n"
   ]
  },
  {
   "cell_type": "code",
   "execution_count": 16,
   "metadata": {},
   "outputs": [
    {
     "name": "stdout",
     "output_type": "stream",
     "text": [
      "Movie_ID\n",
      "2         3.635807\n",
      "3         3.322349\n",
      "4         3.432365\n",
      "5         3.432365\n",
      "6         3.483168\n",
      "            ...   \n",
      "193581    3.432365\n",
      "193583    3.432365\n",
      "193585    3.432365\n",
      "193587    3.432365\n",
      "193609    3.432365\n",
      "Length: 9600, dtype: float64\n"
     ]
    }
   ],
   "source": [
    "# normalized aggregated recommendations to range (0 and 5)\n",
    "min_rating = 0 \n",
    "max_rating = 5  \n",
    "\n",
    "normalized_group_recommendations = (\n",
    "    (group_recommendations - group_recommendations.min()) / (group_recommendations.max() - group_recommendations.min())\n",
    ") * (max_rating - min_rating) + min_rating\n",
    "\n",
    "print(normalized_group_recommendations)"
   ]
  },
  {
   "cell_type": "code",
   "execution_count": 17,
   "metadata": {},
   "outputs": [
    {
     "data": {
      "text/plain": [
       "pandas.core.series.Series"
      ]
     },
     "execution_count": 17,
     "metadata": {},
     "output_type": "execute_result"
    }
   ],
   "source": [
    "type(normalized_group_recommendations)"
   ]
  },
  {
   "cell_type": "code",
   "execution_count": 28,
   "metadata": {},
   "outputs": [],
   "source": [
    "def weighted_group_recommendation(common_recommendations):\n",
    "    '''\n",
    "    parameters : dataframe of  common user recommendations\n",
    "    returns the group recommendations ->pd series\n",
    "    \n",
    "    '''\n",
    "    #Calculating disaggreements\n",
    "    disagreements = 1 - cosine_similarity(common_recommendations.T)\n",
    "    # Create a DataFrame with disagreements\n",
    "    disagreements_df = pd.DataFrame(disagreements, columns=common_recommendations.columns, index=common_recommendations.columns)\n",
    "    weights = 1 - (disagreements_df - disagreements_df.min()) / (disagreements_df.max() - disagreements_df.min())\n",
    "    # Weighted Aggregation for group recommendations\n",
    "    weighted_aggregated_recommendations = common_recommendations.copy()\n",
    "\n",
    "    # multiplying each user's recommendation by their corresponding weight based on disagreements\n",
    "    for user in common_recommendations.columns:\n",
    "        weighted_aggregated_recommendations[user] *= weights.loc[user, user]\n",
    "\n",
    "    # Sum up the weighted recommendations across users to get aggregated recommendations\n",
    "    group_recommendations = weighted_aggregated_recommendations.sum(axis=1)\n",
    "    # normalized aggregated recommendations to range (0 and 5)\n",
    "    min_rating = 0 \n",
    "    max_rating = 5  \n",
    "\n",
    "    normalized_group_recommendations = (\n",
    "        (group_recommendations - group_recommendations.min()) / (group_recommendations.max() - group_recommendations.min())\n",
    "    ) * (max_rating - min_rating) + min_rating\n",
    "\n",
    "    return normalized_group_recommendations\n"
   ]
  },
  {
   "cell_type": "code",
   "execution_count": 27,
   "metadata": {},
   "outputs": [
    {
     "data": {
      "text/plain": [
       "pandas.core.series.Series"
      ]
     },
     "execution_count": 27,
     "metadata": {},
     "output_type": "execute_result"
    }
   ],
   "source": [
    "d = weighted_group_recommendation(common_recommendations)\n",
    "top_10 = d.sort_values(ascending=False).head(10)\n",
    "type(top_10)"
   ]
  },
  {
   "cell_type": "code",
   "execution_count": 19,
   "metadata": {},
   "outputs": [
    {
     "data": {
      "text/html": [
       "<div>\n",
       "<style scoped>\n",
       "    .dataframe tbody tr th:only-of-type {\n",
       "        vertical-align: middle;\n",
       "    }\n",
       "\n",
       "    .dataframe tbody tr th {\n",
       "        vertical-align: top;\n",
       "    }\n",
       "\n",
       "    .dataframe thead th {\n",
       "        text-align: right;\n",
       "    }\n",
       "</style>\n",
       "<table border=\"1\" class=\"dataframe\">\n",
       "  <thead>\n",
       "    <tr style=\"text-align: right;\">\n",
       "      <th></th>\n",
       "      <th>Movie ID</th>\n",
       "      <th>Title</th>\n",
       "      <th>Rating</th>\n",
       "    </tr>\n",
       "  </thead>\n",
       "  <tbody>\n",
       "    <tr>\n",
       "      <th>0</th>\n",
       "      <td>47</td>\n",
       "      <td>Seven (a.k.a. Se7en) (1995)</td>\n",
       "      <td>5.000000</td>\n",
       "    </tr>\n",
       "    <tr>\n",
       "      <th>1</th>\n",
       "      <td>1198</td>\n",
       "      <td>Raiders of the Lost Ark (Indiana Jones and the...</td>\n",
       "      <td>4.959837</td>\n",
       "    </tr>\n",
       "    <tr>\n",
       "      <th>2</th>\n",
       "      <td>3863</td>\n",
       "      <td>Cell, The (2000)</td>\n",
       "      <td>4.861231</td>\n",
       "    </tr>\n",
       "    <tr>\n",
       "      <th>3</th>\n",
       "      <td>750</td>\n",
       "      <td>Dr. Strangelove or: How I Learned to Stop Worr...</td>\n",
       "      <td>4.708015</td>\n",
       "    </tr>\n",
       "    <tr>\n",
       "      <th>4</th>\n",
       "      <td>1129</td>\n",
       "      <td>Escape from New York (1981)</td>\n",
       "      <td>4.708015</td>\n",
       "    </tr>\n",
       "    <tr>\n",
       "      <th>5</th>\n",
       "      <td>3740</td>\n",
       "      <td>Big Trouble in Little China (1986)</td>\n",
       "      <td>4.708015</td>\n",
       "    </tr>\n",
       "    <tr>\n",
       "      <th>6</th>\n",
       "      <td>101</td>\n",
       "      <td>Bottle Rocket (1996)</td>\n",
       "      <td>4.698955</td>\n",
       "    </tr>\n",
       "    <tr>\n",
       "      <th>7</th>\n",
       "      <td>968</td>\n",
       "      <td>Night of the Living Dead (1968)</td>\n",
       "      <td>4.698955</td>\n",
       "    </tr>\n",
       "    <tr>\n",
       "      <th>8</th>\n",
       "      <td>1235</td>\n",
       "      <td>Harold and Maude (1971)</td>\n",
       "      <td>4.698955</td>\n",
       "    </tr>\n",
       "    <tr>\n",
       "      <th>9</th>\n",
       "      <td>1285</td>\n",
       "      <td>Heathers (1989)</td>\n",
       "      <td>4.698955</td>\n",
       "    </tr>\n",
       "  </tbody>\n",
       "</table>\n",
       "</div>"
      ],
      "text/plain": [
       "   Movie ID                                              Title    Rating\n",
       "0        47                        Seven (a.k.a. Se7en) (1995)  5.000000\n",
       "1      1198  Raiders of the Lost Ark (Indiana Jones and the...  4.959837\n",
       "2      3863                                   Cell, The (2000)  4.861231\n",
       "3       750  Dr. Strangelove or: How I Learned to Stop Worr...  4.708015\n",
       "4      1129                        Escape from New York (1981)  4.708015\n",
       "5      3740                 Big Trouble in Little China (1986)  4.708015\n",
       "6       101                               Bottle Rocket (1996)  4.698955\n",
       "7       968                    Night of the Living Dead (1968)  4.698955\n",
       "8      1235                            Harold and Maude (1971)  4.698955\n",
       "9      1285                                    Heathers (1989)  4.698955"
      ]
     },
     "execution_count": 19,
     "metadata": {},
     "output_type": "execute_result"
    }
   ],
   "source": [
    "# pd series to tuples\n",
    "list_of_tuples = list(zip(normalized_group_recommendations.index, normalized_group_recommendations.values))\n",
    "sorted_recommendations = sorted(list_of_tuples, key=lambda x: x[1], reverse=True)\n",
    "\n",
    "#top 10 recommendations for the group using weighted aggregation method\n",
    "top_10_recommendations = sorted_recommendations[:10]\n",
    "weighted_group_recommendations = create_dataframe(top_10_recommendations,movies)\n",
    "weighted_group_recommendations\n",
    "\n"
   ]
  },
  {
   "cell_type": "code",
   "execution_count": 20,
   "metadata": {},
   "outputs": [
    {
     "name": "stdout",
     "output_type": "stream",
     "text": [
      "            User 1  User 2    User 3\n",
      "Movie_ID                            \n",
      "47        5.000000     5.0  4.363581\n",
      "101       3.951613     5.0  4.753694\n",
      "750       3.951613     5.0  4.773504\n",
      "968       3.951613     5.0  4.753694\n",
      "1129      3.951613     5.0  4.773504\n",
      "1198      5.000000     5.0  4.275758\n",
      "1235      3.951613     5.0  4.753694\n",
      "1285      3.951613     5.0  4.753694\n",
      "3740      3.951613     5.0  4.773504\n",
      "3863      4.306452     5.0  4.753694\n"
     ]
    }
   ],
   "source": [
    "# movie in top 10 recommendations\n",
    "top_movies = [movie for movie, _ in top_10_recommendations]\n",
    "\n",
    "# ratings for the top 10 recommended movies from the common recommended movies\n",
    "ratings_for_top_movies = common_recommendations[common_recommendations.index.isin(top_movies)].rename(columns={1: 'User 1', 2: 'User 2',3: 'User 3'})\n",
    "ratings_for_top_movies\n",
    "\n",
    "print(ratings_for_top_movies)"
   ]
  },
  {
   "cell_type": "code",
   "execution_count": 21,
   "metadata": {},
   "outputs": [
    {
     "data": {
      "text/html": [
       "<div>\n",
       "<style scoped>\n",
       "    .dataframe tbody tr th:only-of-type {\n",
       "        vertical-align: middle;\n",
       "    }\n",
       "\n",
       "    .dataframe tbody tr th {\n",
       "        vertical-align: top;\n",
       "    }\n",
       "\n",
       "    .dataframe thead th {\n",
       "        text-align: right;\n",
       "    }\n",
       "</style>\n",
       "<table border=\"1\" class=\"dataframe\">\n",
       "  <thead>\n",
       "    <tr style=\"text-align: right;\">\n",
       "      <th></th>\n",
       "      <th>Title</th>\n",
       "      <th>Rating</th>\n",
       "      <th>User 1</th>\n",
       "      <th>User 2</th>\n",
       "      <th>User 3</th>\n",
       "    </tr>\n",
       "    <tr>\n",
       "      <th>Movie ID</th>\n",
       "      <th></th>\n",
       "      <th></th>\n",
       "      <th></th>\n",
       "      <th></th>\n",
       "      <th></th>\n",
       "    </tr>\n",
       "  </thead>\n",
       "  <tbody>\n",
       "    <tr>\n",
       "      <th>47</th>\n",
       "      <td>Seven (a.k.a. Se7en) (1995)</td>\n",
       "      <td>5.000000</td>\n",
       "      <td>5.000000</td>\n",
       "      <td>5.0</td>\n",
       "      <td>4.363581</td>\n",
       "    </tr>\n",
       "    <tr>\n",
       "      <th>1198</th>\n",
       "      <td>Raiders of the Lost Ark (Indiana Jones and the...</td>\n",
       "      <td>4.959837</td>\n",
       "      <td>5.000000</td>\n",
       "      <td>5.0</td>\n",
       "      <td>4.275758</td>\n",
       "    </tr>\n",
       "    <tr>\n",
       "      <th>3863</th>\n",
       "      <td>Cell, The (2000)</td>\n",
       "      <td>4.861231</td>\n",
       "      <td>4.306452</td>\n",
       "      <td>5.0</td>\n",
       "      <td>4.753694</td>\n",
       "    </tr>\n",
       "    <tr>\n",
       "      <th>750</th>\n",
       "      <td>Dr. Strangelove or: How I Learned to Stop Worr...</td>\n",
       "      <td>4.708015</td>\n",
       "      <td>3.951613</td>\n",
       "      <td>5.0</td>\n",
       "      <td>4.773504</td>\n",
       "    </tr>\n",
       "    <tr>\n",
       "      <th>1129</th>\n",
       "      <td>Escape from New York (1981)</td>\n",
       "      <td>4.708015</td>\n",
       "      <td>3.951613</td>\n",
       "      <td>5.0</td>\n",
       "      <td>4.773504</td>\n",
       "    </tr>\n",
       "    <tr>\n",
       "      <th>3740</th>\n",
       "      <td>Big Trouble in Little China (1986)</td>\n",
       "      <td>4.708015</td>\n",
       "      <td>3.951613</td>\n",
       "      <td>5.0</td>\n",
       "      <td>4.773504</td>\n",
       "    </tr>\n",
       "    <tr>\n",
       "      <th>101</th>\n",
       "      <td>Bottle Rocket (1996)</td>\n",
       "      <td>4.698955</td>\n",
       "      <td>3.951613</td>\n",
       "      <td>5.0</td>\n",
       "      <td>4.753694</td>\n",
       "    </tr>\n",
       "    <tr>\n",
       "      <th>968</th>\n",
       "      <td>Night of the Living Dead (1968)</td>\n",
       "      <td>4.698955</td>\n",
       "      <td>3.951613</td>\n",
       "      <td>5.0</td>\n",
       "      <td>4.753694</td>\n",
       "    </tr>\n",
       "    <tr>\n",
       "      <th>1235</th>\n",
       "      <td>Harold and Maude (1971)</td>\n",
       "      <td>4.698955</td>\n",
       "      <td>3.951613</td>\n",
       "      <td>5.0</td>\n",
       "      <td>4.753694</td>\n",
       "    </tr>\n",
       "    <tr>\n",
       "      <th>1285</th>\n",
       "      <td>Heathers (1989)</td>\n",
       "      <td>4.698955</td>\n",
       "      <td>3.951613</td>\n",
       "      <td>5.0</td>\n",
       "      <td>4.753694</td>\n",
       "    </tr>\n",
       "  </tbody>\n",
       "</table>\n",
       "</div>"
      ],
      "text/plain": [
       "                                                      Title    Rating  \\\n",
       "Movie ID                                                                \n",
       "47                              Seven (a.k.a. Se7en) (1995)  5.000000   \n",
       "1198      Raiders of the Lost Ark (Indiana Jones and the...  4.959837   \n",
       "3863                                       Cell, The (2000)  4.861231   \n",
       "750       Dr. Strangelove or: How I Learned to Stop Worr...  4.708015   \n",
       "1129                            Escape from New York (1981)  4.708015   \n",
       "3740                     Big Trouble in Little China (1986)  4.708015   \n",
       "101                                    Bottle Rocket (1996)  4.698955   \n",
       "968                         Night of the Living Dead (1968)  4.698955   \n",
       "1235                                Harold and Maude (1971)  4.698955   \n",
       "1285                                        Heathers (1989)  4.698955   \n",
       "\n",
       "            User 1  User 2    User 3  \n",
       "Movie ID                              \n",
       "47        5.000000     5.0  4.363581  \n",
       "1198      5.000000     5.0  4.275758  \n",
       "3863      4.306452     5.0  4.753694  \n",
       "750       3.951613     5.0  4.773504  \n",
       "1129      3.951613     5.0  4.773504  \n",
       "3740      3.951613     5.0  4.773504  \n",
       "101       3.951613     5.0  4.753694  \n",
       "968       3.951613     5.0  4.753694  \n",
       "1235      3.951613     5.0  4.753694  \n",
       "1285      3.951613     5.0  4.753694  "
      ]
     },
     "execution_count": 21,
     "metadata": {},
     "output_type": "execute_result"
    }
   ],
   "source": [
    "weighted_group_recommendations.set_index ('Movie ID', inplace=True)\n",
    "#Concatenated df\n",
    "concatenated_df = weighted_group_recommendations.join(ratings_for_top_movies)\n",
    "concatenated_df"
   ]
  }
 ],
 "metadata": {
  "kernelspec": {
   "display_name": "base",
   "language": "python",
   "name": "python3"
  },
  "language_info": {
   "codemirror_mode": {
    "name": "ipython",
    "version": 3
   },
   "file_extension": ".py",
   "mimetype": "text/x-python",
   "name": "python",
   "nbconvert_exporter": "python",
   "pygments_lexer": "ipython3",
   "version": "3.9.13"
  }
 },
 "nbformat": 4,
 "nbformat_minor": 2
}
